{
  "nbformat": 4,
  "nbformat_minor": 0,
  "metadata": {
    "colab": {
      "provenance": []
    },
    "kernelspec": {
      "name": "python3",
      "display_name": "Python 3"
    },
    "language_info": {
      "name": "python"
    }
  },
  "cells": [
    {
      "cell_type": "markdown",
      "source": [
        "# Importation des packages"
      ],
      "metadata": {
        "id": "_lyJzHuKRNWX"
      }
    },
    {
      "cell_type": "code",
      "execution_count": 15,
      "metadata": {
        "id": "MUj96QiIQsJ_"
      },
      "outputs": [],
      "source": [
        "import numpy as np\n",
        "import pandas as pd\n",
        "import matplotlib.pyplot as plt\n",
        "%matplotlib inline\n",
        "import tensorflow as tf\n",
        "import seaborn as sns\n",
        "\n",
        "from keras.preprocessing.text import Tokenizer\n",
        "from keras.preprocessing.sequence import pad_sequences\n",
        "from keras.layers import Dense, Input, LSTM, Embedding, Dropout, Activation\n",
        "from keras.layers import Bidirectional, GlobalMaxPool1D\n",
        "from keras.models import Model\n",
        "from keras import initializers, regularizers, constraints, optimizers, layers"
      ]
    },
    {
      "cell_type": "markdown",
      "source": [
        "# Importation des données"
      ],
      "metadata": {
        "id": "xZLpUMItRWc0"
      }
    },
    {
      "cell_type": "markdown",
      "source": [
        "Ajoutez un raccourci de ce dossier à votre google drive :\n",
        "\n",
        "https://drive.google.com/drive/folders/1mx-CAzT10YKrmxHfYDP_1Oef7PVGUr7s?usp=sharing"
      ],
      "metadata": {
        "id": "cbE3MzVKRaV2"
      }
    },
    {
      "cell_type": "code",
      "source": [
        "from google.colab import drive\n",
        "drive.mount('/content/drive', force_remount=True)"
      ],
      "metadata": {
        "colab": {
          "base_uri": "https://localhost:8080/"
        },
        "id": "4FktfCVaRVrs",
        "outputId": "1aaea144-94c6-4854-e020-e8381539293e"
      },
      "execution_count": 2,
      "outputs": [
        {
          "output_type": "stream",
          "name": "stdout",
          "text": [
            "Mounted at /content/drive\n"
          ]
        }
      ]
    },
    {
      "cell_type": "code",
      "source": [
        "data = pd.read_csv('/content/drive/MyDrive/data_classification_commentaires_toxiques/train.csv')\n",
        "test = pd.read_csv('/content/drive/MyDrive/data_classification_commentaires_toxiques/test.csv')"
      ],
      "metadata": {
        "id": "qky64Lq8Rocy"
      },
      "execution_count": 52,
      "outputs": []
    },
    {
      "cell_type": "markdown",
      "source": [
        "# Etude du jeu de données"
      ],
      "metadata": {
        "id": "-kUWzBzISpsK"
      }
    },
    {
      "cell_type": "markdown",
      "source": [
        "Utilisation de ce guide: https://www.kaggle.com/code/sbongo/for-beginners-tackling-toxic-using-keras"
      ],
      "metadata": {
        "id": "5FoaC3G5BW4g"
      }
    },
    {
      "cell_type": "code",
      "source": [
        "list_classes = [\"toxic\", \"severe_toxic\", \"obscene\", \"threat\", \"insult\", \"identity_hate\"]\n",
        "y = data[list_classes].values\n",
        "list_sentences_train = data[\"comment_text\"]\n",
        "list_sentences_test = test[\"comment_text\"]"
      ],
      "metadata": {
        "id": "CAexGL7jS-VF"
      },
      "execution_count": 53,
      "outputs": []
    },
    {
      "cell_type": "markdown",
      "source": [
        "# Préparation des données"
      ],
      "metadata": {
        "id": "YIzpSrAjSsAM"
      }
    },
    {
      "cell_type": "code",
      "source": [
        "max_features = 20000\n",
        "tokenizer = Tokenizer(num_words=max_features)\n",
        "tokenizer.fit_on_texts(list(list_sentences_train))\n",
        "list_tokenized_train = tokenizer.texts_to_sequences(list_sentences_train)\n",
        "list_tokenized_test = tokenizer.texts_to_sequences(list_sentences_test)"
      ],
      "metadata": {
        "id": "1WMk85t8S_zX"
      },
      "execution_count": 54,
      "outputs": []
    },
    {
      "cell_type": "code",
      "source": [
        "list_tokenized_train[:1]"
      ],
      "metadata": {
        "colab": {
          "base_uri": "https://localhost:8080/"
        },
        "id": "6hDKS16G5mRH",
        "outputId": "557fe8f4-9c2f-4d7b-811e-f2486b3477ec"
      },
      "execution_count": 27,
      "outputs": [
        {
          "output_type": "execute_result",
          "data": {
            "text/plain": [
              "[[688,\n",
              "  75,\n",
              "  1,\n",
              "  126,\n",
              "  130,\n",
              "  177,\n",
              "  29,\n",
              "  672,\n",
              "  4511,\n",
              "  12052,\n",
              "  1116,\n",
              "  86,\n",
              "  331,\n",
              "  51,\n",
              "  2278,\n",
              "  11448,\n",
              "  50,\n",
              "  6864,\n",
              "  15,\n",
              "  60,\n",
              "  2756,\n",
              "  148,\n",
              "  7,\n",
              "  2937,\n",
              "  34,\n",
              "  117,\n",
              "  1221,\n",
              "  15190,\n",
              "  2825,\n",
              "  4,\n",
              "  45,\n",
              "  59,\n",
              "  244,\n",
              "  1,\n",
              "  365,\n",
              "  31,\n",
              "  1,\n",
              "  38,\n",
              "  27,\n",
              "  143,\n",
              "  73,\n",
              "  3462,\n",
              "  89,\n",
              "  3085,\n",
              "  4583,\n",
              "  2273,\n",
              "  985]]"
            ]
          },
          "metadata": {},
          "execution_count": 27
        }
      ]
    },
    {
      "cell_type": "code",
      "source": [
        "# Adding padding in case sentences aren't the same length\n",
        "maxlen = 200\n",
        "X_t = pad_sequences(list_tokenized_train, maxlen=maxlen)\n",
        "X_te = pad_sequences(list_tokenized_test, maxlen=maxlen)"
      ],
      "metadata": {
        "id": "M_YyiZ-c5vPf"
      },
      "execution_count": 56,
      "outputs": []
    },
    {
      "cell_type": "code",
      "source": [
        "totalNumWords = [len(one_comment) for one_comment in list_tokenized_train]"
      ],
      "metadata": {
        "id": "7GX-ZTqw6Dr6"
      },
      "execution_count": 57,
      "outputs": []
    },
    {
      "cell_type": "code",
      "source": [
        "plt.hist(totalNumWords,bins = np.arange(0,410,10))\n",
        "plt.show()"
      ],
      "metadata": {
        "colab": {
          "base_uri": "https://localhost:8080/",
          "height": 430
        },
        "id": "PLIhD0A76GZp",
        "outputId": "67ad18e6-6e89-4940-bfd9-4e9ea2783013"
      },
      "execution_count": 58,
      "outputs": [
        {
          "output_type": "display_data",
          "data": {
            "text/plain": [
              "<Figure size 640x480 with 1 Axes>"
            ],
            "image/png": "[encoded data removed]"
          },
          "metadata": {}
        }
      ]
    },
    {
      "cell_type": "code",
      "source": [
        "inp = Input(shape=(maxlen, )) #maxlen=200 as defined earlier"
      ],
      "metadata": {
        "id": "aHeJlF8l6X7W"
      },
      "execution_count": 59,
      "outputs": []
    },
    {
      "cell_type": "code",
      "source": [
        "embed_size = 128\n",
        "x = Embedding(max_features, embed_size)(inp)"
      ],
      "metadata": {
        "id": "5FsbtS_z6bKk"
      },
      "execution_count": 60,
      "outputs": []
    },
    {
      "cell_type": "markdown",
      "source": [
        "# Création du modèle"
      ],
      "metadata": {
        "id": "8To2dur_6g63"
      }
    },
    {
      "cell_type": "code",
      "source": [
        "x = LSTM(60, return_sequences=True, name='lstm_layer')(x)\n",
        "x = GlobalMaxPool1D()(x)\n",
        "x = Dropout(0.1)(x)\n",
        "x = Dense(50, activation=\"relu\")(x)\n",
        "x = Dropout(0.1)(x)\n",
        "x = Dense(6, activation=\"sigmoid\")(x)"
      ],
      "metadata": {
        "id": "E6QaTdAw6nPk"
      },
      "execution_count": 61,
      "outputs": []
    },
    {
      "cell_type": "code",
      "source": [
        "model = Model(inputs=inp, outputs=x)\n",
        "model.compile(loss='binary_crossentropy',\n",
        "                  optimizer='adam',\n",
        "                  metrics=['accuracy'])"
      ],
      "metadata": {
        "id": "T26BLq9T61wM"
      },
      "execution_count": 62,
      "outputs": []
    },
    {
      "cell_type": "markdown",
      "source": [
        "# Entraînement du modèle baseline"
      ],
      "metadata": {
        "id": "LxNIQgESTCmE"
      }
    },
    {
      "cell_type": "code",
      "source": [
        "batch_size = 32\n",
        "epochs = 2\n",
        "model.fit(X_t,y, batch_size=batch_size, epochs=epochs, validation_split=0.1)"
      ],
      "metadata": {
        "id": "YgkPpzIzSQUi",
        "colab": {
          "base_uri": "https://localhost:8080/"
        },
        "outputId": "26493ecf-9911-4fb7-b4cf-88e31f54ba9c"
      },
      "execution_count": 63,
      "outputs": [
        {
          "metadata": {
            "tags": null
          },
          "name": "stdout",
          "output_type": "stream",
          "text": [
            "Epoch 1/2\n",
            "4488/4488 [==============================] - 412s 91ms/step - loss: 0.0709 - accuracy: 0.9378 - val_loss: 0.0495 - val_accuracy: 0.9940\n",
            "Epoch 2/2\n",
            "4488/4488 [==============================] - 398s 89ms/step - loss: 0.0452 - accuracy: 0.9859 - val_loss: 0.0476 - val_accuracy: 0.9940\n"
          ]
        },
        {
          "data": {
            "text/plain": [
              "<keras.src.callbacks.History at 0x7f964125f040>"
            ]
          },
          "execution_count": 63,
          "metadata": {},
          "output_type": "execute_result"
        }
      ]
    },
    {
      "cell_type": "markdown",
      "source": [
        "# Itération de la modélisation"
      ],
      "metadata": {
        "id": "2a8IWbTFTHXh"
      }
    },
    {
      "cell_type": "code",
      "source": [
        "model.summary()"
      ],
      "metadata": {
        "id": "rVR0eCkoTQSI"
      },
      "execution_count": null,
      "outputs": []
    },
    {
      "cell_type": "code",
      "source": [
        "from keras import backend as K\n",
        "\n",
        "# with a Sequential model\n",
        "get_3rd_layer_output = K.function([model.layers[0].input],\n",
        "                                  [model.layers[2].output])\n",
        "layer_output = get_3rd_layer_output([X_t[:1]])[0]\n",
        "layer_output.shape"
      ],
      "metadata": {
        "colab": {
          "base_uri": "https://localhost:8080/"
        },
        "id": "z4tmqnA2Apbl",
        "outputId": "02881bcc-1f49-4269-bd32-b346d96205b9"
      },
      "execution_count": 64,
      "outputs": [
        {
          "output_type": "execute_result",
          "data": {
            "text/plain": [
              "(1, 200, 60)"
            ]
          },
          "metadata": {},
          "execution_count": 64
        }
      ]
    },
    {
      "cell_type": "code",
      "source": [
        "print (layer_output)"
      ],
      "metadata": {
        "colab": {
          "base_uri": "https://localhost:8080/"
        },
        "id": "Z3VOK-yRAxX0",
        "outputId": "769a2fbb-adde-4c8d-bc81-8e8a31f6d411"
      },
      "execution_count": 65,
      "outputs": [
        {
          "output_type": "stream",
          "name": "stdout",
          "text": [
            "[[[ 0.02213917  0.01540503  0.01454973 ... -0.5494794  -0.13409226\n",
            "   -0.49218595]\n",
            "  [ 0.01337736  0.00861183  0.01090227 ... -0.7289836  -0.17683542\n",
            "   -0.7464067 ]\n",
            "  [ 0.01380983  0.00683366  0.0094933  ... -0.77901995 -0.23083007\n",
            "   -0.8238837 ]\n",
            "  ...\n",
            "  [-0.01411909 -0.06640089  0.27212295 ... -0.53284806 -0.09330856\n",
            "   -0.641167  ]\n",
            "  [-0.01781534 -0.25121897  0.36136898 ... -0.55290675 -0.02570876\n",
            "   -0.6205652 ]\n",
            "  [-0.01548978 -0.2686188   0.30503753 ... -0.6179171  -0.05277883\n",
            "   -0.74960065]]]\n"
          ]
        }
      ]
    }
  ]
}